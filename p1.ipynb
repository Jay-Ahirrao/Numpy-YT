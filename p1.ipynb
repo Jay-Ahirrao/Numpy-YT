{
 "cells": [
  {
   "cell_type": "code",
   "execution_count": 2,
   "metadata": {},
   "outputs": [],
   "source": [
    "import numpy as np"
   ]
  },
  {
   "cell_type": "markdown",
   "metadata": {},
   "source": [
    "## creating array from list"
   ]
  },
  {
   "cell_type": "code",
   "execution_count": 3,
   "metadata": {},
   "outputs": [
    {
     "name": "stdout",
     "output_type": "stream",
     "text": [
      "[[0. 0. 0. 0.]\n",
      " [0. 0. 0. 0.]\n",
      " [0. 0. 0. 0.]]\n",
      "[[1. 1. 1. 1.]\n",
      " [1. 1. 1. 1.]\n",
      " [1. 1. 1. 1.]]\n"
     ]
    }
   ],
   "source": [
    "zeros = np.zeros((3, 4))\n",
    "ones = np.ones((3, 4))\n",
    "print(zeros)\n",
    "print(ones)"
   ]
  },
  {
   "cell_type": "code",
   "execution_count": 4,
   "metadata": {},
   "outputs": [
    {
     "name": "stdout",
     "output_type": "stream",
     "text": [
      "[[4 4 4 4]\n",
      " [4 4 4 4]\n",
      " [4 4 4 4]\n",
      " [4 4 4 4]]\n",
      "[[4. 4. 4. 4.]\n",
      " [4. 4. 4. 4.]\n",
      " [4. 4. 4. 4.]\n",
      " [4. 4. 4. 4.]]\n"
     ]
    }
   ],
   "source": [
    "full = np.full((4, 4), 4)\n",
    "print(full)\n",
    "print(np.full((4, 4), 4, dtype=np.float32))"
   ]
  },
  {
   "cell_type": "code",
   "execution_count": 5,
   "metadata": {},
   "outputs": [
    {
     "name": "stdout",
     "output_type": "stream",
     "text": [
      "[[108880.25115155 964409.19949734 680114.95212467]\n",
      " [686260.79878439 548730.74368234 333462.10696994]\n",
      " [271153.76766534 333476.38952392 440646.20495582]\n",
      " [512914.9817843  947863.14727917 125818.80507383]]\n",
      "[0.58177017 2.7437253 ]\n",
      "[1.07715175 2.76790056]\n"
     ]
    }
   ],
   "source": [
    "random = np.random.random((4,3))\n",
    "print(random*1000000)\n",
    "random2 = np.random.normal((2,2))\n",
    "print(random2)\n",
    "random3 = np.random.uniform((4,3))\n",
    "print(random3)\n"
   ]
  },
  {
   "cell_type": "code",
   "execution_count": 6,
   "metadata": {},
   "outputs": [
    {
     "name": "stdout",
     "output_type": "stream",
     "text": [
      "[0 2 4 6 8]\n",
      "[0.  0.5 1.  1.5 2.  2.5 3.  3.5 4.  4.5 5.  5.5 6.  6.5 7.  7.5 8.  8.5\n",
      " 9.  9.5]\n",
      "[ 0.   5.8 11.6 17.4 23.2 29.  34.8 40.6 46.4 52.2 58.  63.8 69.6 75.4\n",
      " 81.2 87.  92.8 98.6]\n"
     ]
    }
   ],
   "source": [
    "sequence = np.arange(0, 10, 2)\n",
    "print(sequence)\n",
    "sequence2 = np.arange(0, 10, 0.5)\n",
    "print(sequence2)\n",
    "sequence3 = np.arange(0, 100, 5.8)\n",
    "print(sequence3)"
   ]
  },
  {
   "cell_type": "code",
   "execution_count": 9,
   "metadata": {},
   "outputs": [
    {
     "name": "stdout",
     "output_type": "stream",
     "text": [
      "[1, 2, 3, 4, 5, 1, 2, 3, 4, 5]\n",
      "[ 2  4  6  8 10]\n",
      "[[ 2  4  6  8 10]\n",
      " [12 14 16 18 20]]\n"
     ]
    }
   ],
   "source": [
    "list1 = [1, 2, 3, 4, 5]\n",
    "print(list1 * 2)\n",
    "\n",
    "list2 = np.array([1, 2, 3, 4, 5])\n",
    "print(list2 * 2)\n",
    "\n",
    "list3 = np.array([[1, 2, 3, 4, 5],[6, 7, 8, 9, 10]])\n",
    "print(list3 * 2)\n"
   ]
  },
  {
   "cell_type": "code",
   "execution_count": null,
   "metadata": {},
   "outputs": [],
   "source": []
  }
 ],
 "metadata": {
  "kernelspec": {
   "display_name": ".venv",
   "language": "python",
   "name": "python3"
  },
  "language_info": {
   "codemirror_mode": {
    "name": "ipython",
    "version": 3
   },
   "file_extension": ".py",
   "mimetype": "text/x-python",
   "name": "python",
   "nbconvert_exporter": "python",
   "pygments_lexer": "ipython3",
   "version": "3.13.2"
  }
 },
 "nbformat": 4,
 "nbformat_minor": 2
}
